{
 "cells": [
  {
   "cell_type": "markdown",
   "metadata": {},
   "source": [
    "# Situation\n",
    "\n",
    "At the time of this experiment, Udacity courses currently have two options on the course overview page: \"start free trial\", and \"access course materials\". If the student clicks \"start free trial\", they will be asked to enter their credit card information, and then they will be enrolled in a free trial for the paid version of the course. After 14 days, they will automatically be charged unless they cancel first. If the student clicks \"access course materials\", they will be able to view the videos and take the quizzes for free, but they will not receive coaching support or a verified certificate, and they will not submit their final project for feedback.\n",
    "\n",
    "# Experiment\n",
    "\n",
    "In the experiment, Udacity tested a change where if the student clicked \"start free trial\", they were asked how much time they had available to devote to the course. If the student indicated 5 or more hours per week, they would be taken through the checkout process as usual. If they indicated fewer than 5 hours per week, a message would appear indicating that Udacity courses usually require a greater time commitment for successful completion, and suggesting that the student might like to access the course materials for free. At this point, the student would have the option to continue enrolling in the free trial, or access the course materials for free instead. [This screenshot](https://www.google.com/url?q=https://drive.google.com/a/knowlabs.com/file/d/0ByAfiG8HpNUMakVrS0s4cGN2TjQ/view?usp%3Dsharing&sa=D&ust=1566807927543000) shows what the experiment looks like.\n",
    "\n",
    "The unit of diversion is a cookie, although if the student enrolls in the free trial, they are tracked by user-id from that point forward. The same user-id cannot enroll in the free trial twice. For users that do not enroll, their user-id is not tracked in the experiment, even if they were signed in when they visited the course overview page."
   ]
  },
  {
   "cell_type": "code",
   "execution_count": 2,
   "metadata": {
    "collapsed": true
   },
   "outputs": [],
   "source": [
    "# Import some sensible defaults\n",
    "import numpy as np\n",
    "import pandas as pd\n",
    "import matplotlib.pyplot as plt"
   ]
  },
  {
   "cell_type": "markdown",
   "metadata": {},
   "source": [
    "## Hypothesis\n",
    "\n",
    "$H_0$: This change won't set clearer expectations for students upfront, and not reduce the number of frustrated students who leave the free trial because they don't have enough time. It won't significantly reduce the number of students to continue past the free trial and eventually complete the course.\n",
    "\n",
    "$H_1$: This change will set clearer expectations for students upfront, thus reducing the number of frustrated students who leave the free trial because they don't have enough time—without significantly reducing the number of students to continue past the free trial and eventually complete the course. If this hypothesis holds true, Udacity could improve the overall student experience and improve coaches' capacity to support students who are likely to complete the course.\n",
    "\n",
    "## Metric Choice\n",
    "\n",
    "There are several possible metrics that could be used for the experiment.\n",
    "\n",
    "### Invariant Metrics\n",
    "\n",
    "Invariant metrics are chosen to investigate possible issues in the experiment setup and execution, i.e. detect bad measurements due to errors or unintended consequences.\n",
    "\n",
    "#### Selected:    \n",
    "\n",
    "| Metric Name               | Formula                                 | $d_{min}$ | Notation         |\n",
    "|---------------------------|-----------------------------------------|-----------|------------------|\n",
    "| Number of cookies         | # cookies on course overview page       | 3000      | $cookies_{uniq}$ |\n",
    "| Number of clicks          | # cookies clicked on button             | 240       | $clicks_{uniq}$  |\n",
    "| Click-Through-Probability | $\\frac{clicks_{uniq}}{cookies_{uniq}}$  | 1%        | $CTP$            |\n",
    "\n",
    "- **Number of cookies**: That is, number of unique cookies to view the course overview page. (dmin=3000)\n",
    "    - A good invariant as this is the unit of diversion, hence it is randomized by definition. This metric should not be significantly different from a p=0.5 value (for an equal split)\n",
    "- **Number of clicks**: That is, number of unique cookies to click the \"Start free trial\" button (which happens before the free trial screener is trigger). (dmin=240)\n",
    "    - Also a good invariant, even though it is a subset of cookies from above the experiment happens after the button is clicked and therefore the cookies should not be significantly different between groups.\n",
    "- **Click-through-probability**: That is, number of unique cookies to click the \"Start free trial\" button divided by number of unique cookies to view the course overview page. (dmin=0.01)\n",
    "    - The click-through-probability from course overview page to \"Start free trial\" click should be unaffected by the experiment, hence not significantly different between groups.\n",
    "\n",
    "#### Not Selected:    \n",
    "\n",
    "| Metric Name               | Formula                                  | Practical Significance $d_{min}$ | Notation |\n",
    "|---------------------------|------------------------------------------|----------------------------------|----------|\n",
    "| Number of user-ids        | # user-ids that enroll in the free trial | 50                               |$enrolled$|\n",
    "\n",
    "- **Number of user-ids**: That is, number of users who enroll in the free trial. (dmin=50)\n",
    "    - This could possibly have been an invariant metric but since it is only recorded after the experimental change we're unable to use it as such. It might be affected by the variation.\n",
    "\n",
    "### Evaluation Metrics\n",
    "\n",
    "Evaluation metrics are chosen to investigate the impact of the changes. They are usually tied to business goals (at least indirectly).\n",
    "\n",
    "| Metric Name      | Formula                           | Practical Significance $d_{min}$ | Notation             |\n",
    "|------------------|-----------------------------------|----------------------------------|----------------------|\n",
    "| Gross Conversion | $\\frac{enrolled}{cookies_{uniq}}$ | 1%                               | $Conversion_{gross}$ |\n",
    "| Retention        | $\\frac{payment}{enrolled}$        | 1%                               | $Retention$      |\n",
    "| Net Conversion   | $\\frac{payment}{cookies_{uniq}}$  | 0.75%                            | $Conversion_{net}$   |\n",
    "\n",
    "\n",
    "- **Gross conversion**: That is, number of user-ids to complete checkout and enroll in the free trial divided by number of unique cookies to click the \"Start free trial\" button. (dmin= 0.01)\n",
    "    - This metric is going to measure whether we're successfully deterring users from enrolling in the free trial. We're expecting the gross conversion to go down ($H_1$).\n",
    "- **Retention**: That is, number of user-ids to remain enrolled past the 14-day boundary (and thus make at least one payment) divided by number of user-ids to complete checkout. (dmin=0.01)\n",
    "    - This metric is going to measure the probability that we're successfully retaining users through the free trial. We're expecting retention to increase ($H_1$).\n",
    "- **Net conversion**: That is, number of user-ids to remain enrolled past the 14-day boundary (and thus make at least one payment) divided by the number of unique cookies to click the \"Start free trial\" button. (dmin= 0.0075)\n",
    "    - This metric is going to measure whether we remain able to funnel users through the free trial that are likely to succeed in completing a course. We're hoping that this metric will stay unchanged ($H_1$).\n",
    "\n",
    "NOTE: _Any place \"unique cookies\" are mentioned, the uniqueness is determined by day. (That is, the same cookie visiting on different days would be counted twice.) User-ids are automatically unique since the site does not allow the same user-id to enroll twice._\n",
    "\n",
    "NOTE: $d_{min}$ _is the difference necessary to be practically significant._\n",
    "\n",
    "**Essential Measures for Launch Recommendation:** It is necessary to see a significant drop by at least 1% in Gross Conversion, without significantly (1% and 0.75% respectively) affecting Retention and Net Conversion. \n",
    "\n",
    "## Variability\n",
    "\n",
    "Variability and variability estimates are essential to making reliable estimates on experiment sizing. Certain types of metrics allow us to make variance estimates analytically (e.g. binomial,  normal, difference between two counts and rates) others are more difficult as they rely on the underlying distribution.\n",
    "\n",
    "A summary of common estimates for metrics:\n",
    "\n",
    "| type of metric | distribution | requirement | est. Variance |\n",
    "|---|---|---|\n",
    "| probability | binomial (normal) | probability value | $\\frac{\\hat{p}(1-\\hat{p})}{N}$ |\n",
    "| mean | normal | std. estimate | $\\frac{\\hat{\\sigma}^2}{N}$ |\n",
    "| median / percentile | varies | - | depends on underlying distribution |\n",
    "| difference (count) | normal (often) | variance est. of the compared counts | $var(x)+var(y)$ |\n",
    "| rates | poisson (often) | mean | $\\bar{x}$ (mean) |\n",
    "| ratios | varies | - | depends on underlying distribution of numerator and denominator |\n",
    "\n",
    "The following metrics are baseline metrics and I assume are some avg. metric measured over a longer timeframe.\n",
    "\n",
    "#### Baseline Values"
   ]
  },
  {
   "cell_type": "code",
   "execution_count": 3,
   "metadata": {
    "collapsed": false
   },
   "outputs": [],
   "source": [
    "baseline = pd.read_csv('data/baseline.csv', header=None)\n",
    "baseline.columns = ['description','N=40000']\n",
    "\n",
    "# add notation for easier retrieval\n",
    "baseline.index = ['cookies_uniq','clicks_uniq','enrolled','ctp','conversion_gross','retention','conversion_net']\n",
    "\n",
    "# add practical significance levels (d_min)\n",
    "\n",
    "baseline['dmin'] = [3000,240,50,0.01,0.01,0.01,0.0075]"
   ]
  },
  {
   "cell_type": "markdown",
   "metadata": {},
   "source": [
    "Next, we should be making ourselves familiar with the metrics we're working with. We'll categorize into types and unit of analysis. \n",
    "\n",
    "The type is important for our variance estimate and the unit of analysis will allow us to make a decision on whether this variance estimate is likely to be reliable. That is, if `unit of analysis != unit of diversion`, then our analytical esimate might not be reliable and we should consider an empirical estimate instead. \n",
    "\n",
    "_Remember the unit of diversion is 'cookies'._"
   ]
  },
  {
   "cell_type": "code",
   "execution_count": 4,
   "metadata": {
    "collapsed": true
   },
   "outputs": [],
   "source": [
    "baseline['type'] = ['count', 'count', 'count', 'probability', 'probability', 'probability', 'probability']\n",
    "baseline['unit'] = ['cookies', 'cookies', 'user-id', 'cookies','cookies','user-id','cookies']"
   ]
  },
  {
   "cell_type": "code",
   "execution_count": 5,
   "metadata": {
    "collapsed": false
   },
   "outputs": [
    {
     "data": {
      "text/html": [
       "<div>\n",
       "<table border=\"1\" class=\"dataframe\">\n",
       "  <thead>\n",
       "    <tr style=\"text-align: right;\">\n",
       "      <th></th>\n",
       "      <th>description</th>\n",
       "      <th>type</th>\n",
       "      <th>unit</th>\n",
       "      <th>dmin</th>\n",
       "      <th>N=40000</th>\n",
       "    </tr>\n",
       "  </thead>\n",
       "  <tbody>\n",
       "    <tr>\n",
       "      <th>cookies_uniq</th>\n",
       "      <td>Unique cookies to view course overview page pe...</td>\n",
       "      <td>count</td>\n",
       "      <td>cookies</td>\n",
       "      <td>3000.0000</td>\n",
       "      <td>40000.000000</td>\n",
       "    </tr>\n",
       "    <tr>\n",
       "      <th>clicks_uniq</th>\n",
       "      <td>Unique cookies to click \"Start free trial\" per...</td>\n",
       "      <td>count</td>\n",
       "      <td>cookies</td>\n",
       "      <td>240.0000</td>\n",
       "      <td>3200.000000</td>\n",
       "    </tr>\n",
       "    <tr>\n",
       "      <th>enrolled</th>\n",
       "      <td>Enrollments per day:</td>\n",
       "      <td>count</td>\n",
       "      <td>user-id</td>\n",
       "      <td>50.0000</td>\n",
       "      <td>660.000000</td>\n",
       "    </tr>\n",
       "    <tr>\n",
       "      <th>ctp</th>\n",
       "      <td>Click-through-probability on \"Start free trial\":</td>\n",
       "      <td>probability</td>\n",
       "      <td>cookies</td>\n",
       "      <td>0.0100</td>\n",
       "      <td>0.080000</td>\n",
       "    </tr>\n",
       "    <tr>\n",
       "      <th>conversion_gross</th>\n",
       "      <td>Probability of enrolling, given click:</td>\n",
       "      <td>probability</td>\n",
       "      <td>cookies</td>\n",
       "      <td>0.0100</td>\n",
       "      <td>0.206250</td>\n",
       "    </tr>\n",
       "    <tr>\n",
       "      <th>retention</th>\n",
       "      <td>Probability of payment, given enroll:</td>\n",
       "      <td>probability</td>\n",
       "      <td>user-id</td>\n",
       "      <td>0.0100</td>\n",
       "      <td>0.530000</td>\n",
       "    </tr>\n",
       "    <tr>\n",
       "      <th>conversion_net</th>\n",
       "      <td>Probability of payment, given click</td>\n",
       "      <td>probability</td>\n",
       "      <td>cookies</td>\n",
       "      <td>0.0075</td>\n",
       "      <td>0.109313</td>\n",
       "    </tr>\n",
       "  </tbody>\n",
       "</table>\n",
       "</div>"
      ],
      "text/plain": [
       "                                                        description  \\\n",
       "cookies_uniq      Unique cookies to view course overview page pe...   \n",
       "clicks_uniq       Unique cookies to click \"Start free trial\" per...   \n",
       "enrolled                                       Enrollments per day:   \n",
       "ctp                Click-through-probability on \"Start free trial\":   \n",
       "conversion_gross             Probability of enrolling, given click:   \n",
       "retention                     Probability of payment, given enroll:   \n",
       "conversion_net                  Probability of payment, given click   \n",
       "\n",
       "                         type     unit       dmin       N=40000  \n",
       "cookies_uniq            count  cookies  3000.0000  40000.000000  \n",
       "clicks_uniq             count  cookies   240.0000   3200.000000  \n",
       "enrolled                count  user-id    50.0000    660.000000  \n",
       "ctp               probability  cookies     0.0100      0.080000  \n",
       "conversion_gross  probability  cookies     0.0100      0.206250  \n",
       "retention         probability  user-id     0.0100      0.530000  \n",
       "conversion_net    probability  cookies     0.0075      0.109313  "
      ]
     },
     "execution_count": 5,
     "metadata": {},
     "output_type": "execute_result"
    }
   ],
   "source": [
    "# put columns in order\n",
    "baseline = baseline.loc[:,['description','type','unit','dmin','N=40000']]\n",
    "baseline"
   ]
  },
  {
   "cell_type": "markdown",
   "metadata": {},
   "source": [
    "We can see that the type count excludes cookies_uniq, clicks_uniq and enrolled from being able to make any reliable variance estimate for these metrics. That is okay since they are not part of our evaluation metrics and we don't necessarily need estimates for them.\n",
    "\n",
    "For the other metrics we're working with probabilities and luckily we have an estimate available \n",
    "\n",
    "$$\\frac{\\hat{p}(1-\\hat{p})}{N}$$ \n",
    "\n",
    "Lastly, we'll need to check whether our `unit of diversion = unit of analysis`. This applies to all probability metrics except for retention (which uses `user-id` as a unit of analysis). Ideally, we would want to have an empirical estimate for this metric but we'll move on disregarding this disconnect for now.\n",
    "\n",
    "For this estimate we'll be using $N=5000$"
   ]
  },
  {
   "cell_type": "code",
   "execution_count": 6,
   "metadata": {
    "collapsed": false
   },
   "outputs": [
    {
     "data": {
      "text/html": [
       "<div>\n",
       "<table border=\"1\" class=\"dataframe\">\n",
       "  <thead>\n",
       "    <tr style=\"text-align: right;\">\n",
       "      <th></th>\n",
       "      <th>N=5000</th>\n",
       "    </tr>\n",
       "  </thead>\n",
       "  <tbody>\n",
       "    <tr>\n",
       "      <th>cookies_uniq</th>\n",
       "      <td>5000.000000</td>\n",
       "    </tr>\n",
       "    <tr>\n",
       "      <th>clicks_uniq</th>\n",
       "      <td>400.000000</td>\n",
       "    </tr>\n",
       "    <tr>\n",
       "      <th>enrolled</th>\n",
       "      <td>82.500000</td>\n",
       "    </tr>\n",
       "    <tr>\n",
       "      <th>ctp</th>\n",
       "      <td>0.080000</td>\n",
       "    </tr>\n",
       "    <tr>\n",
       "      <th>conversion_gross</th>\n",
       "      <td>0.206250</td>\n",
       "    </tr>\n",
       "    <tr>\n",
       "      <th>retention</th>\n",
       "      <td>0.530000</td>\n",
       "    </tr>\n",
       "    <tr>\n",
       "      <th>conversion_net</th>\n",
       "      <td>0.109313</td>\n",
       "    </tr>\n",
       "  </tbody>\n",
       "</table>\n",
       "</div>"
      ],
      "text/plain": [
       "                       N=5000\n",
       "cookies_uniq      5000.000000\n",
       "clicks_uniq        400.000000\n",
       "enrolled            82.500000\n",
       "ctp                  0.080000\n",
       "conversion_gross     0.206250\n",
       "retention            0.530000\n",
       "conversion_net       0.109313"
      ]
     },
     "execution_count": 6,
     "metadata": {},
     "output_type": "execute_result"
    }
   ],
   "source": [
    "# Reduce counts to 5000 cookies (i.e. divide  each count by 8)\n",
    "baseline.loc[['cookies_uniq','clicks_uniq','enrolled'],'N=5000'] = baseline['N=40000'] / 8\n",
    "\n",
    "# Probabilities don't change by changing the counts proportionally\n",
    "baseline.loc[['ctp','conversion_gross','retention','conversion_net'],'N=5000'] = baseline.loc[['ctp','conversion_gross','retention','conversion_net'],'N=40000']\n",
    "\n",
    "baseline.loc[:,['N=5000']]"
   ]
  },
  {
   "cell_type": "markdown",
   "metadata": {},
   "source": [
    "These adjusted sample sizes are now going to be used to make our estimates for the Standard Deviations (i.e. the square root of the variance) of the evaluation metrics."
   ]
  },
  {
   "cell_type": "code",
   "execution_count": 7,
   "metadata": {
    "collapsed": false
   },
   "outputs": [
    {
     "data": {
      "text/html": [
       "<div>\n",
       "<table border=\"1\" class=\"dataframe\">\n",
       "  <thead>\n",
       "    <tr style=\"text-align: right;\">\n",
       "      <th></th>\n",
       "      <th>Standard Deviation Est.</th>\n",
       "    </tr>\n",
       "  </thead>\n",
       "  <tbody>\n",
       "    <tr>\n",
       "      <th>ctp</th>\n",
       "      <td>0.003837</td>\n",
       "    </tr>\n",
       "    <tr>\n",
       "      <th>conversion_gross</th>\n",
       "      <td>0.020231</td>\n",
       "    </tr>\n",
       "    <tr>\n",
       "      <th>retention</th>\n",
       "      <td>0.054949</td>\n",
       "    </tr>\n",
       "    <tr>\n",
       "      <th>conversion_net</th>\n",
       "      <td>0.015602</td>\n",
       "    </tr>\n",
       "  </tbody>\n",
       "</table>\n",
       "</div>"
      ],
      "text/plain": [
       "                  Standard Deviation Est.\n",
       "ctp                              0.003837\n",
       "conversion_gross                 0.020231\n",
       "retention                        0.054949\n",
       "conversion_net                   0.015602"
      ]
     },
     "execution_count": 7,
     "metadata": {},
     "output_type": "execute_result"
    }
   ],
   "source": [
    "# Calculate standard deviation for CTP with N = 5000\n",
    "p_ctp = baseline.loc['ctp','N=5000']\n",
    "N_ctp = baseline.loc['cookies_uniq','N=5000']\n",
    "baseline.loc['ctp','Standard Deviation Est.'] = np.sqrt(p_ctp * (1-p_ctp) / N_ctp)\n",
    "\n",
    "# Calculate standard deviation for conversion_gross with N = 5000 (respectively 400)\n",
    "p_conversion_gross = baseline.loc['conversion_gross','N=5000']\n",
    "N_conversion_gross = baseline.loc['clicks_uniq','N=5000']\n",
    "baseline.loc['conversion_gross','Standard Deviation Est.'] = np.sqrt(p_conversion_gross * (1-p_conversion_gross) / N_conversion_gross)\n",
    "\n",
    "# Calculate standard deviation for retention with N = 5000 (respectively 82.5)\n",
    "p_retention = baseline.loc['retention','N=5000']\n",
    "N_retention = baseline.loc['enrolled','N=5000']\n",
    "baseline.loc['retention','Standard Deviation Est.'] = np.sqrt(p_retention * (1-p_retention) / N_retention)\n",
    "\n",
    "# Calculate standard deviation for conversion_net with N = 5000 (respectively 400)\n",
    "p_conversion_net = baseline.loc['conversion_net','N=5000']\n",
    "N_conversion_net = baseline.loc['clicks_uniq','N=5000']\n",
    "baseline.loc['conversion_net','Standard Deviation Est.'] = np.sqrt(p_conversion_net * (1-p_conversion_net) / N_conversion_net)\n",
    "\n",
    "baseline.loc[['ctp','conversion_gross','retention','conversion_net'],['Standard Deviation Est.']]"
   ]
  },
  {
   "cell_type": "markdown",
   "metadata": {},
   "source": [
    "Understanding the variability of your metrics is essential to understand the sizing for your experiment and fine-tuning what metrics can and should be used for a given experiment (a high variability might not make much sense for experimenting)."
   ]
  },
  {
   "cell_type": "markdown",
   "metadata": {},
   "source": [
    "### Sizing \n",
    "\n",
    "The variability estimates above are not only essential to understanding whether a metric is usable (i.e. reliable) but also can be used for an experiment sizing. \n",
    "\n",
    "Let's consider our requirements. $\\alpha$ is our level of accepting a Type I Error and $\\beta$ our level of acceptance for a Type II Error. These are in an inverse relationship. Another restriction is our sample size $N$. We're therefore facing an optimization problem between these three factors. Given that we usually have some best practice numbers for $\\alpha$ and $\\beta$ we usually make $N$ the variable to optimize.\n",
    "\n",
    "To better understand the sizing formula let's first consider what generally $d$ looks like\n",
    "\n",
    "$$d = |p_{control} - p_{exp}|$$\n",
    "\n",
    "Simple enough, the difference between two values is the absolute value of one subtracted by the other. Since we're estimating we're now going to consider replacing the values above with educated guesses and we get:\n",
    "\n",
    "$$d = |p_{baseline} - p_{dmin}|$$\n",
    "\n",
    "We're using the baseline value as our control p and the baseline value + practical significance level $p_{dmin} = p_{baseline} + d_{min}$ as the smallest change that is valuable to detect.\n",
    "\n",
    "_Note: Minimizing for d is our practical significance level._\n",
    "\n",
    "Let's now consider the smallest possible values that we start rejecting each of our requirements for:\n",
    "\n",
    "$$for\\ \\alpha_{min},\\ \\ \\ z_{1-\\alpha}*\\frac{\\sqrt{p_{baseline}(1-p_{baseline})}}{\\sqrt{N}}$$\n",
    "\n",
    "$$for\\ \\beta_{min},\\ \\ \\ -z_{1-\\beta}*\\frac{\\sqrt{p_{dmin}(1-p_{dmin})}}{\\sqrt{N}}$$\n",
    "\n",
    "_Note: We're taking the negative of the result for $\\beta_{min}$ as we're interested in the lower tail of the distribution (where we have the largest overlap between the two distributions) in an experiment setup where we assume the evaluation metrics increase_\n",
    "\n",
    "$\\sqrt{p(1-p)}$ is simply the standard deviation (based on the variance estimate of a probability), so we'll replace it with $SD$ for better readability. Now, using the formula with the minimized $\\alpha$ and $\\beta$ we get,\n",
    "\n",
    "$$d_{min} = z_{1-\\alpha}*\\frac{SD_{baseline}}{N} - (-z_{1-\\beta}*\\frac{SD_{dmin}}{N})$$\n",
    "\n",
    "Translating this formula to $N$ we get the final workable formula,\n",
    "\n",
    "$$N=\\bigg(\\frac{Z_{1-\\alpha}SD_1+Z_{1-\\beta}SD_2}{d_{min}}\\bigg)^2$$\n",
    "\n",
    "Deriving from the variance estimates table seen at the beginning of this notebook we can derive $SD_1$ and $SD_2$. However, note that we have to use pooled variances for this calculation as we're looking at two samples and this looks as follows\n",
    "\n",
    "$$SD_1=\\sqrt{2*p_{baseline}(1-p_{baseline})}\\ \\ \\ \\ \\ SD_2=\\sqrt{p_{baseline}(1-p_{baseline}) + (p_{dmin})(1-(p_{dmin}))}$$\n",
    "\n",
    "$SD_1$ computes the estimated standard deviation of the baseline parameter and $SD_2$ the estimated standard deviation of the baseline parameter + the practical significance level.\n",
    "\n",
    "The following is taken from this [blog post](http://www.alfredo.motta.name/ab-testing-from-scratch/) translation of the sizing script written in R. This does require some prior knowledge of power and significance to follow. \n",
    "\n",
    "Basically, we'll need a few things:\n",
    "\n",
    "| Input | Notation |\n",
    "|---|---|\n",
    "| Statistical Significance level (Probability of Type I Error / alpha) | $\\alpha$ |\n",
    "| Practical Significance level (closest True Parameter of interest) | $d_{min}$ |\n",
    "| Standard Error Estimate | $s$ |\n",
    "| Beta (Probability of Type II Error) | $\\beta$ |\n",
    "\n",
    "The significance level and beta can simply be defined using experience and best practices (often $\\alpha=0.05$ and $\\beta=0.2$). The practical signficance level can be chosen using business goals and experience. Lastly, since we usually should work with a baseline in A/B Testing we can often use that Standard Error Estimate as an approximation for the Standard Error Estimate of the True Parameter (the parameter we're trying to detect via the experiment).\n",
    "\n",
    "Now that we have the inputs we'll want to get the smallest possible sample size (N) that fulfills the $<=\\beta$ requirement. In our calculator we'll be doing that using trial and error, we're going to compute $\\beta$ for a bunch of Ns and pick the smallest N at which beta crosses the desired value.\n",
    "\n",
    "_Note: This sample size calculator assumes a two-tailed test and a normal distribution and is not usable for any other underlying distributions or test types. It also makes a simplification for z\\* which is usually fine since we're largely just making an estimate but usually using one of the [online calculators](http://www.evanmiller.org/ab-testing/sample-size.html) is advisable._"
   ]
  },
  {
   "cell_type": "code",
   "execution_count": 75,
   "metadata": {
    "collapsed": false
   },
   "outputs": [],
   "source": [
    "from scipy.stats import norm\n",
    "from math import sqrt,factorial\n",
    "\n",
    "def get_SDs(p_base,d_min):\n",
    "    sd_base = sqrt(2*p_base*(1-p_base))\n",
    "    p_dmin = p_base+d_min\n",
    "    sd_dmin = sqrt(p_base*(1-p_base)+p_dmin*(1-p_dmin))\n",
    "    return [sd_base,sd_dmin]\n",
    "\n",
    "# Inputs:\n",
    "# The desired alpha for a two-tailed test.\n",
    "# Returns: The z-critical value\n",
    "# Note: -norm.ppf(alpha / 2) equals norm.ppf(1 - (alpha / 2)) due to the symmetric shape of the normal distribution\n",
    "def get_z_star(alpha):\n",
    "    return(norm.ppf(alpha))\n",
    "    \n",
    "# Inputs:\n",
    "#   s: The standard error of the metric with N=1 in each group\n",
    "#   d_min: The practical significance level\n",
    "#   Ns: The sample sizes to try\n",
    "#   alpha: The desired alpha level of the test\n",
    "#   beta: The desired beta level of the test\n",
    "# Returns: The smallest N out of the given Ns that will achieve the desired\n",
    "#          beta. There should be at least N samples in each group of the experiment.\n",
    "#          If none of the given Ns will work, returns -1. N is the number of\n",
    "#          samples in each group.\n",
    "def required_size(SDs, d_min, alpha=0.05, beta=0.2):\n",
    "    z_1_minus_a = get_z_star(1-alpha/2)\n",
    "    z_1_minus_b = get_z_star(1-beta)\n",
    "    \n",
    "    return ((z_1_minus_a * SDs[0] + z_1_minus_b * SDs[1]) / d_min) ** 2"
   ]
  },
  {
   "cell_type": "markdown",
   "metadata": {},
   "source": [
    "#### Calculate Size\n",
    "\n",
    "Since there are three evaluation metrics, we'll need to size the experiment for each of them and choose the largest one that we choose to include. But first the inputs need to be defined.\n",
    "\n",
    "_Define Inputs_\n",
    "\n",
    "Statistical Significance levels vary depending on how many metrics you're including in your analysis. The statistical error actually adds up pretty quickly, to counteract this we can lower alpha for each individual metric to maintain a desired $\\alpha_{overall}$. Often we're using the Bonferroni Correction to do this:\n",
    "\n",
    "$$\\alpha_{individual} = \\frac{\\alpha_{overall}}{m} = \\frac{0.05}{3} = 0.0167$$\n",
    "\n",
    "Our new alpha with three evaluation metrics is thus \n",
    "\n",
    "$\\alpha = 0.0167$\n",
    "\n",
    "$\\beta = 0.2$\n",
    "\n",
    "The practical significance and standard error estimate depends on the metric."
   ]
  },
  {
   "cell_type": "code",
   "execution_count": 9,
   "metadata": {
    "collapsed": true
   },
   "outputs": [],
   "source": [
    "alpha = 0.0167\n",
    "beta = 0.2"
   ]
  },
  {
   "cell_type": "markdown",
   "metadata": {},
   "source": [
    "_Gross Conversion_"
   ]
  },
  {
   "cell_type": "code",
   "execution_count": 10,
   "metadata": {
    "collapsed": false
   },
   "outputs": [
    {
     "name": "stdout",
     "output_type": "stream",
     "text": [
      "p_baseline: 0.20625\n",
      "d_min: 0.01\n",
      "N: 34419\n"
     ]
    }
   ],
   "source": [
    "p_gross = baseline.loc['conversion_gross','N=5000']\n",
    "dmin_gross = baseline.loc['conversion_gross','dmin']\n",
    "print('p_baseline: {}\\nd_min: {}'.format(p_gross,dmin_gross))\n",
    "\n",
    "N_gross = int(round(required_size(get_SDs(p_gross,dmin_gross), dmin_gross, alpha=alpha, beta=beta)))\n",
    "\n",
    "print('N: {}'.format(N_gross))"
   ]
  },
  {
   "cell_type": "markdown",
   "metadata": {},
   "source": [
    "We need 34419 cookies per group. Since our baseline conversion from pageview (cookies_uniq) to click is 0.08, we'll divide the number of cookies by that conversion rate. Lastly, we'll need to double the amount to get to the right amount of pageview."
   ]
  },
  {
   "cell_type": "code",
   "execution_count": 11,
   "metadata": {
    "collapsed": false
   },
   "outputs": [
    {
     "name": "stdout",
     "output_type": "stream",
     "text": [
      "Necessary number of pageviews (cookies_uniq) in total: 860475.0\n"
     ]
    }
   ],
   "source": [
    "ctp = baseline.loc['ctp','N=5000']\n",
    "cookies_gross = round(N_gross/ctp * 2)\n",
    "\n",
    "print(\"Necessary number of pageviews (cookies_uniq) in total: {}\".format(cookies_gross))"
   ]
  },
  {
   "cell_type": "markdown",
   "metadata": {},
   "source": [
    "_Retention_"
   ]
  },
  {
   "cell_type": "code",
   "execution_count": 12,
   "metadata": {
    "collapsed": false
   },
   "outputs": [
    {
     "name": "stdout",
     "output_type": "stream",
     "text": [
      "p_baseline: 0.53\n",
      "d_min: 0.01\n",
      "N: 52114\n"
     ]
    }
   ],
   "source": [
    "p_retention = baseline.loc['retention','N=5000']\n",
    "dmin_retention = baseline.loc['retention','dmin']\n",
    "print('p_baseline: {}\\nd_min: {}'.format(p_retention,dmin_retention))\n",
    "\n",
    "N_retention = int(round(required_size(get_SDs(p_retention,dmin_retention), dmin_retention, alpha=alpha, beta=beta)))\n",
    "\n",
    "print('N: {}'.format(N_retention))"
   ]
  },
  {
   "cell_type": "markdown",
   "metadata": {},
   "source": [
    "We'll need 52114 user-ids to get a relevant sample. In this case, we're actually two conversion steps apart from pageviews. So to get to the necessary amount of pageviews \n",
    "(cookies_uniq) we'll need to expand the term by the enrollment probability (0.20625) as well as by the click probability (0.08)."
   ]
  },
  {
   "cell_type": "code",
   "execution_count": 13,
   "metadata": {
    "collapsed": false
   },
   "outputs": [
    {
     "name": "stdout",
     "output_type": "stream",
     "text": [
      "Necessary number of pageviews (cookies_uniq) in total: 6316848.0\n"
     ]
    }
   ],
   "source": [
    "cookies_retention = round(N_retention/p_gross/ctp * 2)\n",
    "\n",
    "print(\"Necessary number of pageviews (cookies_uniq) in total: {}\".format(cookies_retention))"
   ]
  },
  {
   "cell_type": "markdown",
   "metadata": {},
   "source": [
    "_Net Conversion_"
   ]
  },
  {
   "cell_type": "code",
   "execution_count": 14,
   "metadata": {
    "collapsed": false
   },
   "outputs": [
    {
     "name": "stdout",
     "output_type": "stream",
     "text": [
      "p_baseline: 0.1093125\n",
      "d_min: 0.0075\n",
      "N: 36505\n"
     ]
    }
   ],
   "source": [
    "p_net = baseline.loc['conversion_net','N=5000']\n",
    "dmin_net = baseline.loc['conversion_net','dmin']\n",
    "print('p_baseline: {}\\nd_min: {}'.format(p_net,dmin_net))\n",
    "\n",
    "N_net = int(round(required_size(get_SDs(p_net,dmin_net), dmin_net, alpha=alpha, beta=beta)))\n",
    "\n",
    "print('N: {}'.format(N_net))"
   ]
  },
  {
   "cell_type": "code",
   "execution_count": 15,
   "metadata": {
    "collapsed": false
   },
   "outputs": [
    {
     "name": "stdout",
     "output_type": "stream",
     "text": [
      "Necessary number of pageviews (cookies_uniq) in total: 912625.0\n"
     ]
    }
   ],
   "source": [
    "cookies_net = round(N_net/ctp * 2)\n",
    "\n",
    "print(\"Necessary number of pageviews (cookies_uniq) in total: {}\".format(cookies_net))"
   ]
  },
  {
   "cell_type": "markdown",
   "metadata": {},
   "source": [
    "### Duration and Exposure\n",
    "\n",
    "We can see in the previous cells that Retention requires a much higher sample size compared to the other two metrics. In this step we'll evaluate the feasibility of acquiring a sample large enough by looking at the duration necessary to acquire such a sample. \n",
    "\n",
    "It is important that an experiment is performed over at least the amount of time to capture the effect. This is tricky and depends on the experiment at hand but usually we want to at least have a duration of approximately two weeks (two cycles). We also don't want the experiment to last too long as we might capture a completely new population or other things change in the environment that make our groups not comparable.\n",
    "\n",
    "One lever to extend or tighten duration is Exposure. We usually only want to show our experiment to a subset of users to minimize the risk and ensure a consistent experience for most of our users. For our experiment we'll set the exposure to 60%."
   ]
  },
  {
   "cell_type": "code",
   "execution_count": 16,
   "metadata": {
    "collapsed": false
   },
   "outputs": [
    {
     "name": "stdout",
     "output_type": "stream",
     "text": [
      "duration (Gross Conversion): 36 days\n",
      "duration (Retention): 263 days\n",
      "duration (Net Conversion): 38 days\n"
     ]
    }
   ],
   "source": [
    "daily_cookies = baseline.loc['cookies_uniq','N=40000']\n",
    "exposure = 0.6\n",
    "\n",
    "duration_gross = cookies_gross/ (daily_cookies * exposure)\n",
    "duration_retention = cookies_retention/ (daily_cookies * exposure)\n",
    "duration_net = cookies_net/ (daily_cookies * exposure)\n",
    "\n",
    "print(\"\"\"duration (Gross Conversion): {} days\n",
    "duration (Retention): {} days\n",
    "duration (Net Conversion): {} days\"\"\".format(int(round(duration_gross)),int(round(duration_retention)),int(round(duration_net))))"
   ]
  },
  {
   "cell_type": "markdown",
   "metadata": {},
   "source": [
    "Our suspicion has been confirmed. Retention will cause the experiment to be more than 7 times longer than would be necessary for the other two metrics. Thus, we'll drop _Retention_ from our roster of evaluation metrics. This means $\\alpha_{overall}$ needs to be recalculated and the sample size as well."
   ]
  },
  {
   "cell_type": "code",
   "execution_count": 52,
   "metadata": {
    "collapsed": false
   },
   "outputs": [
    {
     "name": "stdout",
     "output_type": "stream",
     "text": [
      "duration (Gross Conversion): 33 days\n",
      "duration (Net Conversion): 35 days\n"
     ]
    }
   ],
   "source": [
    "alpha = 0.05 / 2\n",
    "\n",
    "N_gross = int(round(required_size(get_SDs(p_gross,dmin_gross), dmin_gross, alpha=alpha, beta=beta)))\n",
    "N_net = int(round(required_size(get_SDs(p_net,dmin_net), dmin_net, alpha=alpha, beta=beta)))\n",
    "\n",
    "cookies_gross = N_gross / ctp * 2\n",
    "cookies_net = N_net / ctp * 2\n",
    "\n",
    "duration_gross = cookies_gross/ (daily_cookies * exposure)\n",
    "duration_net = cookies_net/ (daily_cookies * exposure)\n",
    "\n",
    "print(\"\"\"duration (Gross Conversion): {} days\n",
    "duration (Net Conversion): {} days\"\"\".format(int(round(duration_gross)),int(round(duration_net))))"
   ]
  },
  {
   "cell_type": "markdown",
   "metadata": {},
   "source": [
    "## Analysis\n",
    "\n",
    "The results are in. Due to a business decision the experiment ran for 37 days but that only leaves us with 23 days of valid results (payment tracking comes in with a 14 day delay). \n",
    "\n",
    "_Note: We're going to ignore the validity issues of the length of the experiment for the purpose of this analysis and assume $\\alpha = 0.025$ is applicable here._"
   ]
  },
  {
   "cell_type": "code",
   "execution_count": 53,
   "metadata": {
    "collapsed": false
   },
   "outputs": [
    {
     "data": {
      "text/html": [
       "<div>\n",
       "<table border=\"1\" class=\"dataframe\">\n",
       "  <thead>\n",
       "    <tr style=\"text-align: right;\">\n",
       "      <th></th>\n",
       "      <th>date</th>\n",
       "      <th>cookies_uniq</th>\n",
       "      <th>clicks_uniq</th>\n",
       "      <th>enrolled</th>\n",
       "      <th>payments</th>\n",
       "      <th>ctp</th>\n",
       "      <th>conversion_gross</th>\n",
       "      <th>conversion_net</th>\n",
       "    </tr>\n",
       "  </thead>\n",
       "  <tbody>\n",
       "    <tr>\n",
       "      <th>0</th>\n",
       "      <td>Sat, Oct 11</td>\n",
       "      <td>7723</td>\n",
       "      <td>687</td>\n",
       "      <td>134.0</td>\n",
       "      <td>70.0</td>\n",
       "      <td>0.088955</td>\n",
       "      <td>0.195051</td>\n",
       "      <td>0.101892</td>\n",
       "    </tr>\n",
       "    <tr>\n",
       "      <th>1</th>\n",
       "      <td>Sun, Oct 12</td>\n",
       "      <td>9102</td>\n",
       "      <td>779</td>\n",
       "      <td>147.0</td>\n",
       "      <td>70.0</td>\n",
       "      <td>0.085586</td>\n",
       "      <td>0.188703</td>\n",
       "      <td>0.089859</td>\n",
       "    </tr>\n",
       "    <tr>\n",
       "      <th>2</th>\n",
       "      <td>Mon, Oct 13</td>\n",
       "      <td>10511</td>\n",
       "      <td>909</td>\n",
       "      <td>167.0</td>\n",
       "      <td>95.0</td>\n",
       "      <td>0.086481</td>\n",
       "      <td>0.183718</td>\n",
       "      <td>0.104510</td>\n",
       "    </tr>\n",
       "    <tr>\n",
       "      <th>3</th>\n",
       "      <td>Tue, Oct 14</td>\n",
       "      <td>9871</td>\n",
       "      <td>836</td>\n",
       "      <td>156.0</td>\n",
       "      <td>105.0</td>\n",
       "      <td>0.084693</td>\n",
       "      <td>0.186603</td>\n",
       "      <td>0.125598</td>\n",
       "    </tr>\n",
       "    <tr>\n",
       "      <th>4</th>\n",
       "      <td>Wed, Oct 15</td>\n",
       "      <td>10014</td>\n",
       "      <td>837</td>\n",
       "      <td>163.0</td>\n",
       "      <td>64.0</td>\n",
       "      <td>0.083583</td>\n",
       "      <td>0.194743</td>\n",
       "      <td>0.076464</td>\n",
       "    </tr>\n",
       "  </tbody>\n",
       "</table>\n",
       "</div>"
      ],
      "text/plain": [
       "          date  cookies_uniq  clicks_uniq  enrolled  payments       ctp  \\\n",
       "0  Sat, Oct 11          7723          687     134.0      70.0  0.088955   \n",
       "1  Sun, Oct 12          9102          779     147.0      70.0  0.085586   \n",
       "2  Mon, Oct 13         10511          909     167.0      95.0  0.086481   \n",
       "3  Tue, Oct 14          9871          836     156.0     105.0  0.084693   \n",
       "4  Wed, Oct 15         10014          837     163.0      64.0  0.083583   \n",
       "\n",
       "   conversion_gross  conversion_net  \n",
       "0          0.195051        0.101892  \n",
       "1          0.188703        0.089859  \n",
       "2          0.183718        0.104510  \n",
       "3          0.186603        0.125598  \n",
       "4          0.194743        0.076464  "
      ]
     },
     "execution_count": 53,
     "metadata": {},
     "output_type": "execute_result"
    }
   ],
   "source": [
    "# Load in experiment and control data\n",
    "exp = pd.read_csv('data/experiment.csv',parse_dates=['Date'])\n",
    "cont = pd.read_csv('data/control.csv',parse_dates=['Date'])\n",
    "\n",
    "# Rename columns to above naming convention\n",
    "header = ['date','cookies_uniq','clicks_uniq','enrolled','payments']\n",
    "exp.columns = header\n",
    "cont.columns = header\n",
    "\n",
    "# Compute metrics\n",
    "# Note that retention is not necessary to compute as we've dropped that evaluation metric earlier\n",
    "exp['ctp'] = exp['clicks_uniq'] / exp['cookies_uniq']\n",
    "exp['conversion_gross'] = exp['enrolled'] / exp['clicks_uniq']\n",
    "exp['conversion_net'] = exp['payments'] / exp['clicks_uniq']\n",
    "\n",
    "cont['ctp'] = cont['clicks_uniq'] / cont['cookies_uniq']\n",
    "cont['conversion_gross'] = cont['enrolled'] / cont['clicks_uniq']\n",
    "cont['conversion_net'] = cont['payments'] / cont['clicks_uniq']\n",
    "\n",
    "cont.head()"
   ]
  },
  {
   "cell_type": "markdown",
   "metadata": {},
   "source": [
    "### Sanity Checks\n",
    "\n",
    "These initial test ensure that our experiment properly executed and reduces the chance that we've had any blunders in the test set up.\n",
    "\n",
    "These tests are done on the predefined invariant metrics:\n",
    "\n",
    "- Number of cookies         _| # cookies on course overview page_\n",
    "- Number of clicks          _| # cookies clicked on button_ \n",
    "- Click-Through-Probability\n",
    "\n",
    "#### Number of cookies\n",
    "\n",
    "The number of cookies or pageviews were the Unit of Diversion and have therefore been randomized. This means we can look at this unit in a way as a coin flip with p=0.5. The Standard Error should therefore be\n",
    "\n",
    "$$SE = \\sqrt{\\frac{p(1-p)}{N}},\\ with\\ p = 0.5$$\n"
   ]
  },
  {
   "cell_type": "code",
   "execution_count": 54,
   "metadata": {
    "collapsed": false
   },
   "outputs": [
    {
     "name": "stdout",
     "output_type": "stream",
     "text": [
      "The Confidence Interval (CI) is 0.49827793169 and 0.50172206831.\n",
      "The Experiment Group split: 0.49905436515\n",
      "Pass: True\n"
     ]
    }
   ],
   "source": [
    "# Total Number of cookies in experimental und control group\n",
    "exp_cookies_total = float(exp.loc[:22,'cookies_uniq'].sum())\n",
    "cont_cookies_total = float(cont.loc[:22,'cookies_uniq'].sum())\n",
    "\n",
    "cookies_total = exp_cookies_total + cont_cookies_total\n",
    "\n",
    "# exp fraction of total cookies (should not be significantly different from 0.5)\n",
    "exp_split = exp_cookies_total / cookies_total\n",
    "\n",
    "# Confidence interval of a binomial distribution of p = 0.5\n",
    "p_equal = 0.5\n",
    "se = sqrt(p_equal*(1-p_equal) / cookies_total)\n",
    "z = -norm.ppf(alpha/2)\n",
    "m = z*se\n",
    "ci = (p_equal - m, p_equal + m)\n",
    "print('The Confidence Interval (CI) is {} and {}.\\nThe Experiment Group split: {}\\nPass: {}'.format(ci[0],ci[1],exp_split,exp_split > ci[0] and exp_split < ci[1]))"
   ]
  },
  {
   "cell_type": "markdown",
   "metadata": {},
   "source": [
    "We only need to check the split of one group here as one depends on the other (all assigned to one or the other by definition). In our case the split was successful and is not significantly different from what we'd expect."
   ]
  },
  {
   "cell_type": "markdown",
   "metadata": {},
   "source": [
    "#### Number of Clicks\n",
    "\n",
    "The next check will explore the invariant metric of clicks, using the same methodology."
   ]
  },
  {
   "cell_type": "code",
   "execution_count": 55,
   "metadata": {
    "collapsed": false
   },
   "outputs": [
    {
     "name": "stdout",
     "output_type": "stream",
     "text": [
      "The Confidence Interval (CI) is 0.493970975893 and 0.506029024107.\n",
      "The Experiment Group split: 0.499522472723\n",
      "Pass: True\n"
     ]
    }
   ],
   "source": [
    "# Total Number of clicks in experimental und control group\n",
    "exp_clicks_total = float(exp.loc[:22,'clicks_uniq'].sum())\n",
    "cont_clicks_total = float(cont.loc[:22,'clicks_uniq'].sum())\n",
    "\n",
    "clicks_total = exp_clicks_total + cont_clicks_total\n",
    "\n",
    "# exp fraction of total clicks (should not be significantly different from 0.5)\n",
    "exp_split = exp_clicks_total / clicks_total\n",
    "\n",
    "# Confidence interval of a binomial distribution of p = 0.5\n",
    "se = sqrt(p_equal*(1-p_equal) / clicks_total)\n",
    "m = z*se\n",
    "ci = (p_equal - m, p_equal + m)\n",
    "print('The Confidence Interval (CI) is {} and {}.\\nThe Experiment Group split: {}\\nPass: {}'.format(ci[0],ci[1],exp_split,exp_split > ci[0] and exp_split < ci[1]))"
   ]
  },
  {
   "cell_type": "markdown",
   "metadata": {},
   "source": [
    "#### Click-Through Probability\n",
    "\n",
    "For probability comparisons we'll be going a similar route but use the difference between the probabilities and therefore use a pooled variance instead.\n",
    "\n",
    "$$p_{pooled} = \\frac{X_{cont} + X_{exp}}{N_{cont} + N_{exp}}$$\n",
    "\n",
    "$$SE_{pooled} = \\sqrt{p_{pooled}(1-p_{pooled})\\bigg(\\frac{1}{N_{cont}}+\\frac{1}{N_{exp}}\\bigg)}$$\n",
    "\n",
    "Once we've computed the SE we'll compute the Confidence Interval (CI) around zero and see, if the difference between $p_{exp}$ and $p_{cont}$ is significantly different from 0 (expected difference).\n",
    "\n",
    "$$d = p_{exp} - p_{cont}$$"
   ]
  },
  {
   "cell_type": "code",
   "execution_count": 56,
   "metadata": {
    "collapsed": false
   },
   "outputs": [
    {
     "name": "stdout",
     "output_type": "stream",
     "text": [
      "The Confidence Interval (CI) is -0.00188553301796 and 0.00188553301796.\n",
      "p Difference: 0.000152761502527\n",
      "Pass: True\n"
     ]
    }
   ],
   "source": [
    "p_ctp_exp = exp_clicks_total / exp_cookies_total\n",
    "p_ctp_cont = cont_clicks_total / cont_cookies_total\n",
    "d_ctp = p_ctp_exp - p_ctp_cont\n",
    "p_pooled = clicks_total / cookies_total\n",
    "\n",
    "p_0 = 0\n",
    "se_pooled = sqrt(p_pooled*(1-p_pooled)*((1/exp_cookies_total)+(1/cont_cookies_total)))\n",
    "m = z*se_pooled\n",
    "ci = (p_0-m,p_0+m)\n",
    "print('The Confidence Interval (CI) is {} and {}.\\np Difference: {}\\nPass: {}'.format(ci[0],ci[1],d_ctp,d_ctp > ci[0] and d_ctp < ci[1]))"
   ]
  },
  {
   "cell_type": "markdown",
   "metadata": {},
   "source": [
    "All our invariant metrics passed the sanity checks we can now go on and analyze our results."
   ]
  },
  {
   "cell_type": "markdown",
   "metadata": {},
   "source": [
    "### Multiple Metrics Analysis\n",
    "\n",
    "At this stage we're now going to look into our evaluation metrics:\n",
    "\n",
    "- Gross Conversion\n",
    "- Net Conversion\n",
    "\n",
    "Our analysis for these metrics follows a similar logic we've followed for the Click-Through-Probability sanity check. However, the Confidence Interval is now created around the difference of the probability measurements. The Confidence Interval around the measurement makes sense, as we're trying to show the uncertainty around our measurement, it also allows us an easier way to compute practical significance.\n",
    "\n",
    "#### Gross Conversion\n",
    "\n",
    "As a reminder our statistical significance for Gross conversion is the difference between experimental and control group is not signficantly different from 0 and our practical significance is 0.01, both are evaluated at $\\alpha = 0.025$."
   ]
  },
  {
   "cell_type": "code",
   "execution_count": 57,
   "metadata": {
    "collapsed": false
   },
   "outputs": [
    {
     "name": "stdout",
     "output_type": "stream",
     "text": [
      "CI around p_diff_gross: (-0.030353559713010379, -0.010756189447712752)\n",
      "Statistical Significance: True\n",
      "Practical Significance: True\n"
     ]
    }
   ],
   "source": [
    "p_exp_gross = exp.loc[:22,'enrolled'].sum() / exp.loc[:22,'clicks_uniq'].sum()\n",
    "p_cont_gross = cont.loc[:22,'enrolled'].sum() / cont.loc[:22,'clicks_uniq'].sum()\n",
    "p_diff_gross = p_exp_gross - p_cont_gross\n",
    "\n",
    "p_pooled_gross = (exp.loc[:22,'enrolled'].sum() + cont.loc[:22,'enrolled'].sum()) / clicks_total\n",
    "se_pooled_gross = sqrt(p_pooled_gross * ((1-p_pooled_gross) * (1/exp_clicks_total + 1/cont_clicks_total)))\n",
    "m = z * se_pooled_gross\n",
    "ci = (p_diff_gross - m,p_diff_gross + m)\n",
    "d_min = baseline.loc['conversion_gross','dmin']\n",
    "print('CI around p_diff_gross: {}\\nStatistical Significance: {}\\nPractical Significance: {}'.format(ci,p_0 < ci[0] or p_0 > ci[1],-d_min > ci[1]))"
   ]
  },
  {
   "cell_type": "markdown",
   "metadata": {},
   "source": [
    "We can see that the Confidence Interval around our measurement at $\\alpha = 0.025$ does not include $p_0 = 0$ and also doesn't include $d_{min} = 0.01$. Lastly, we also expected the gross conversion to go decrease, which can also be witnessed. Thus, for $\\alpha = 0.025$ we can say that the result has a statistical and practical significance.\n",
    "\n",
    "#### Net Conversion\n",
    "\n",
    "Before we go on and make a recommendation, we'll have to assess the second part of our hypothesis. We wanted Net Conversion to remain the same. Hence, we're expecting a non-signficant change in our results. This will need to be evaluated."
   ]
  },
  {
   "cell_type": "code",
   "execution_count": 58,
   "metadata": {
    "collapsed": false
   },
   "outputs": [
    {
     "name": "stdout",
     "output_type": "stream",
     "text": [
      "CI around p_diff_net: (-0.012570998897390454, 0.0028235535483021193)\n",
      "Statistical Significance: False\n",
      "Practical Significance: False\n"
     ]
    }
   ],
   "source": [
    "p_exp_net = exp.loc[:22,'payments'].sum() / exp.loc[:22,'clicks_uniq'].sum()\n",
    "p_cont_net = cont.loc[:22,'payments'].sum() / cont.loc[:22,'clicks_uniq'].sum()\n",
    "p_diff_net = p_exp_net - p_cont_net\n",
    "\n",
    "p_pooled_net = (exp.loc[:22,'payments'].sum() + cont.loc[:22,'payments'].sum()) / clicks_total\n",
    "se_pooled_net = sqrt(p_pooled_net * ((1-p_pooled_net) * (1/exp_clicks_total + 1/cont_clicks_total)))\n",
    "m = z * se_pooled_net\n",
    "ci = (p_diff_net - m,p_diff_net + m)\n",
    "d_min = baseline.loc['conversion_net','dmin']\n",
    "print('CI around p_diff_net: {}\\nStatistical Significance: {}\\nPractical Significance: {}'.format(ci,p_0 < ci[0] or p_0 > ci[1],-d_min > ci[1]))"
   ]
  },
  {
   "cell_type": "markdown",
   "metadata": {},
   "source": [
    "Since the Confidence Interval includes 0 we're not seeing a significant difference in Net Conversions (that means there is also no practical significance) at $\\alpha=0.025$. "
   ]
  },
  {
   "cell_type": "markdown",
   "metadata": {},
   "source": [
    "#### Sign Test Evaluation\n",
    "\n",
    "To cross our ts and dot our is we'll use a non-parametric test (i.e. the sign test) to see whether we get the same results. Failing the sign doesn't mean that the results of our parametric test are wrong but a positive result of the sign test will give us additional confidence that our results are solid.\n",
    "\n",
    "The advantages of the Sign test are:\n",
    "- no assumptions on the underlying distribution\n",
    "\n",
    "The critical value can be computed using\n",
    "\n",
    "$$K = \\frac{n-1}{2}-0.98\\sqrt{n}$$\n",
    "\n",
    "To calculate the probability of this binomial distribution we're using the following formula, with n = total number of days where the outcome is non-zero and k = max{# of positive outcomes, # of negative outcomes}.\n",
    "\n",
    "Note: We're using the maximum of either positive or negative outcomes as our \"success\" parameter.\n",
    "\n",
    "$$_nC_k = \\frac{n!}{k!(n-k)!}$$\n",
    "\n",
    "$$P(X) = _nC_k*p^k*(1-p)^{n-k}$$\n",
    "\n",
    "$P(X)$ has to be computed and summed across all n >= k >= successes. Since we're interested in a two-tailed test, we'll then have to double that final summed probability."
   ]
  },
  {
   "cell_type": "code",
   "execution_count": 90,
   "metadata": {
    "collapsed": false
   },
   "outputs": [
    {
     "name": "stdout",
     "output_type": "stream",
     "text": [
      "Two-Sided probability: 0.00259923934937\n",
      "alpha: 0.025\n",
      "Statistical Significance: True\n"
     ]
    }
   ],
   "source": [
    "positive_gross = (exp.loc[:22,'conversion_gross'] - cont.loc[:22,'conversion_gross']) < 0\n",
    "positive_gross = positive_gross.sum()\n",
    "negative_gross = (exp.loc[:22,'conversion_gross'] - cont.loc[:22,'conversion_gross']) > 0\n",
    "negative_gross = negative_gross.sum()\n",
    "successes_gross = max(positive_gross,negative_gross)\n",
    "total_gross = positive_gross + negative_gross\n",
    "\n",
    "# Find the critical value K\n",
    "def get_binom_p(k,n):  \n",
    "    combinations = float(factorial(n)/(factorial(k) * factorial(n-k)))\n",
    "    p_binom = combinations * p_equal**k * (1-p_equal)**(n-k)\n",
    "    return p_binom\n",
    "\n",
    "one_sided_prob = sum([get_binom_p(i+successes_gross,total_gross) for i in range(total_gross - successes_gross)])\n",
    "two_sided_prob = one_sided_prob * 2\n",
    "\n",
    "print('Two-Sided probability: {}\\nalpha: {}\\nStatistical Significance: {}'.format(two_sided_prob,alpha,two_sided_prob < alpha))"
   ]
  },
  {
   "cell_type": "code",
   "execution_count": 92,
   "metadata": {
    "collapsed": false
   },
   "outputs": [
    {
     "name": "stdout",
     "output_type": "stream",
     "text": [
      "Two-Sided probability: 0.677639245987\n",
      "alpha: 0.025\n",
      "Statistical Significance: False\n"
     ]
    }
   ],
   "source": [
    "successes_net = (exp.loc[:22,'conversion_net'] - cont.loc[:22,'conversion_net']) < 0\n",
    "successes_net = successes_net.sum()\n",
    "total_net = (exp.loc[:22,'conversion_net'] - cont.loc[:22,'conversion_net']) != 0\n",
    "total_net = total_net.sum()\n",
    "\n",
    "one_sided_prob = sum([get_binom_p(i+successes_net,total_net) for i in range(total_net - successes_net)])\n",
    "two_sided_prob = one_sided_prob * 2\n",
    "\n",
    "print('Two-Sided probability: {}\\nalpha: {}\\nStatistical Significance: {}'.format(two_sided_prob,alpha,two_sided_prob < alpha))"
   ]
  },
  {
   "cell_type": "markdown",
   "metadata": {},
   "source": [
    "The Sign Test confirms our results in the parametric test."
   ]
  },
  {
   "cell_type": "markdown",
   "metadata": {},
   "source": [
    "### Recommendation\n",
    "\n",
    "The experiment set out to investigate whether an additional screener can improve the UX for users by explaining to users that Udacity courses usually require a certain volume of hours to be completed successfully. We therefore expected Gross Conversion to be lowered and Net Conversion to remain the same (i.e. we only want to sway students from enrolling in the paid version that are unlikely to be successful).\n",
    "\n",
    "Our experiment shows that the screener seems to achieve these results. We can see that the Net Conversion largely remained the same, while the Gross Conversion was decreased (by at least 1%). This implies that this feature should be launch.\n",
    "\n",
    "To ensure that the treatment has the same result we should roll out the change in stages and closely monitor any issues this could cause when released to the entire population."
   ]
  }
 ],
 "metadata": {
  "anaconda-cloud": {},
  "kernelspec": {
   "display_name": "Python [conda env:DAND]",
   "language": "python",
   "name": "conda-env-DAND-py"
  },
  "language_info": {
   "codemirror_mode": {
    "name": "ipython",
    "version": 2
   },
   "file_extension": ".py",
   "mimetype": "text/x-python",
   "name": "python",
   "nbconvert_exporter": "python",
   "pygments_lexer": "ipython2",
   "version": "2.7.12"
  }
 },
 "nbformat": 4,
 "nbformat_minor": 2
}
